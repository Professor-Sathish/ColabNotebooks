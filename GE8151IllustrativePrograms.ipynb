{
  "nbformat": 4,
  "nbformat_minor": 0,
  "metadata": {
    "colab": {
      "name": "GE8151IllustrativePrograms.ipynb",
      "provenance": [],
      "authorship_tag": "ABX9TyNdZ79kq5f2EJx2DrE94jyO",
      "include_colab_link": true
    },
    "kernelspec": {
      "name": "python3",
      "display_name": "Python 3"
    },
    "language_info": {
      "name": "python"
    }
  },
  "cells": [
    {
      "cell_type": "markdown",
      "metadata": {
        "id": "view-in-github",
        "colab_type": "text"
      },
      "source": [
        "<a href=\"https://colab.research.google.com/github/Professor-Sathish/ColabNotebooks/blob/main/GE8151IllustrativePrograms.ipynb\" target=\"_parent\"><img src=\"https://colab.research.google.com/assets/colab-badge.svg\" alt=\"Open In Colab\"/></a>"
      ]
    },
    {
      "cell_type": "markdown",
      "metadata": {
        "id": "02v0Z8AuxnXP"
      },
      "source": [
        "Shubham and Vaibhav are playing a game of integers in which Shubham chooses an integer in his mind(can be any integer value) and Vaibhav had to find that integer through some guesses. \n",
        "\n",
        "Shubham provides 3 hints to Vaibhav ,each hint can be one of the below types:\n",
        "\n",
        "Type 1 : Guess is Low\n",
        "\n",
        "Type 2 : Guess is High\n",
        "\n",
        "Type 3 : You guessed my number!\n",
        "\n",
        "Now Vaibhav has to make some guesses in  order to find Shubham's integer.\n",
        "\n",
        "10 number of guesses made by Vaibhav that that are sufficient enough to find Shubham's integer.\n",
        "\n",
        "In Some cases hints provided by Shubham can mislead Vaibhav, i.e. there can be a case in which Vaibhav is unable to guess the integer using hints provided by Shubham. \n",
        "\n",
        "NOTE : Correct guess should be counted in 10, as this whole game is to find the integer chosen by Shubham.The game will end when Vaibhav's guess is same as Shubham's integer."
      ]
    },
    {
      "cell_type": "code",
      "metadata": {
        "colab": {
          "base_uri": "https://localhost:8080/"
        },
        "id": "qxe5H_EIxK-1",
        "outputId": "0e7c5cf7-5b37-48a6-a44b-04fadd0ecbb0"
      },
      "source": [
        "\"\"\"Guess the Number\n",
        "Try to guess the secret number based on hints.\n",
        "\"\"\"\n",
        "\n",
        "import random\n",
        "\n",
        "\n",
        "def ask_for_guess():\n",
        "    '''returns an integer number as guessed by the user'''\n",
        "    while True:\n",
        "        guess = input('> ')  # Enter the guess.\n",
        "\n",
        "        if guess.isdecimal():\n",
        "            return int(guess)  # Convert string guess to an integer.\n",
        "        print('Please enter a number between 1 and 100.')\n",
        "\n",
        "\n",
        "print('*** Guess the Number ***')\n",
        "print()\n",
        "secretNumber = random.randint(1, 100)  # Select a random number.\n",
        "print('I am thinking of a number between 1 and 100.')\n",
        "\n",
        "for i in range(10):  # Give the player 10 guesses.\n",
        "    print('You have {} guesses left. Take a guess.'.format(10 - i))\n",
        "\n",
        "    guess = ask_for_guess()\n",
        "    if guess == secretNumber:\n",
        "        break  # Break out of the for loop if the guess is correct.\n",
        "\n",
        "    # Offer a hint:\n",
        "    if guess < secretNumber:\n",
        "        print('Your guess is too low.')\n",
        "    if guess > secretNumber:\n",
        "        print('Your guess is too high.')\n",
        "\n",
        "# Reveal the results:\n",
        "if guess == secretNumber:\n",
        "    print('Yay! You guessed my number!')\n",
        "else:\n",
        "    print('Game over. The number I was thinking of was', secretNumber)\n",
        "\n",
        "    "
      ],
      "execution_count": 2,
      "outputs": [
        {
          "output_type": "stream",
          "name": "stdout",
          "text": [
            "*** Guess the Number ***\n",
            "\n",
            "I am thinking of a number between 1 and 100.\n",
            "You have 10 guesses left. Take a guess.\n",
            "> 5\n",
            "Your guess is too low.\n",
            "You have 9 guesses left. Take a guess.\n",
            "> 15\n",
            "Your guess is too low.\n",
            "You have 8 guesses left. Take a guess.\n",
            "> 25\n",
            "Your guess is too low.\n",
            "You have 7 guesses left. Take a guess.\n",
            "> 35\n",
            "Your guess is too high.\n",
            "You have 6 guesses left. Take a guess.\n",
            "> 30\n",
            "Your guess is too high.\n",
            "You have 5 guesses left. Take a guess.\n",
            "> 27\n",
            "Yay! You guessed my number!\n"
          ]
        }
      ]
    }
  ]
}